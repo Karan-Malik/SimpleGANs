{
 "cells": [
  {
   "cell_type": "markdown",
   "metadata": {},
   "source": [
    "# GANs with MNIST"
   ]
  },
  {
   "cell_type": "code",
   "execution_count": 14,
   "metadata": {},
   "outputs": [],
   "source": [
    "import numpy as np\n",
    "import pandas as pd\n",
    "import matplotlib.pyplot as plt\n",
    "import os,sys\n",
    "\n",
    "import tensorflow\n",
    "from tensorflow.keras.layers import Dense, Input, BatchNormalization,Dropout,LeakyReLU\n",
    "from tensorflow.keras.models import Model\n",
    "from tensorflow.keras.optimizers import Adam"
   ]
  },
  {
   "cell_type": "code",
   "execution_count": 15,
   "metadata": {},
   "outputs": [],
   "source": [
    "#Data Loading\n",
    "mnist=tensorflow.keras.datasets.mnist\n",
    "(X_train,y_train),(X_test,y_test)=mnist.load_data()\n",
    "\n",
    "#scaling to between -1 and 1\n",
    "X_train=X_train/255.0\n",
    "X_test=X_test/255.0\n",
    "X_train=X_train*2-1\n",
    "X_test=X_test*2-1"
   ]
  },
  {
   "cell_type": "code",
   "execution_count": 16,
   "metadata": {},
   "outputs": [],
   "source": [
    "#Flatten the data\n",
    "X_train=X_train.reshape(-1,X_train.shape[1]*X_train.shape[2])\n",
    "X_test=X_test.reshape(-1,X_test.shape[1]*X_test.shape[2])"
   ]
  },
  {
   "cell_type": "code",
   "execution_count": 17,
   "metadata": {},
   "outputs": [
    {
     "name": "stdout",
     "output_type": "stream",
     "text": [
      "(60000, 784)\n",
      "(10000, 784)\n",
      "784\n"
     ]
    }
   ],
   "source": [
    "D=X_train.shape[1]\n",
    "print(X_train.shape)\n",
    "print(X_test.shape)\n",
    "print(D)"
   ]
  },
  {
   "cell_type": "code",
   "execution_count": 18,
   "metadata": {},
   "outputs": [],
   "source": [
    "#Create Generator Architecture\n",
    "l_dim=100 #latemt dimensionality\n",
    "\n",
    "def build_gen(l_dim):\n",
    "    a=Input(shape=(l_dim,))\n",
    "    b=Dense(512,activation=LeakyReLU(alpha=0.2))(a)\n",
    "    b=BatchNormalization(momentum=0.7)(b)\n",
    "    b=Dense(1024,activation=LeakyReLU(alpha=0.2))(b)\n",
    "    b=BatchNormalization(momentum=0.7)(b)\n",
    "    b=Dense(1024,activation=LeakyReLU(alpha=0.2))(b)\n",
    "    b=BatchNormalization(momentum=0.7)(b)\n",
    "    b=Dense(D,activation='tanh')(b) #activation is tanh because images are scaled between -1 and 1\n",
    "    \n",
    "    model=Model(a,b)\n",
    "    return model"
   ]
  },
  {
   "cell_type": "code",
   "execution_count": 19,
   "metadata": {},
   "outputs": [],
   "source": [
    "#Create Discriminator Architecture\n",
    "\n",
    "def build_dis(image_size):\n",
    "    a=Input(shape=(image_size,))\n",
    "    b=Dense(512,activation=LeakyReLU(alpha=0.2))(a)\n",
    "    b=Dense(1024,activation=LeakyReLU(alpha=0.2))(b)\n",
    "    b=Dense(1,activation='sigmoid')(b)\n",
    "    \n",
    "    model=Model(a,b)\n",
    "    return model"
   ]
  },
  {
   "cell_type": "code",
   "execution_count": 20,
   "metadata": {},
   "outputs": [],
   "source": [
    "#Building and Compiling the ANNs\n",
    "\n",
    "dis=build_dis(D)\n",
    "dis.compile(optimizer=Adam(0.0001),loss='binary_crossentropy',metrics=['accuracy'])\n",
    "\n",
    "gen=build_gen(l_dim)\n",
    "\n",
    "z=Input(shape=(l_dim,))\n",
    "img=gen(z)\n",
    "dis.trainable=False\n",
    "pred=dis(img)\n",
    "comb_model=Model(z,pred)\n",
    "\n",
    "comb_model.compile(optimizer=Adam(0.0001),loss='binary_crossentropy')"
   ]
  },
  {
   "cell_type": "code",
   "execution_count": 24,
   "metadata": {},
   "outputs": [],
   "source": [
    "#Training the GAN\n",
    "\n",
    "epochs=40000\n",
    "batch_size=16\n",
    "sample=1000\n",
    "\n",
    "ones=np.ones(batch_size)\n",
    "zeros=np.zeros(batch_size)\n",
    "\n",
    "dis_loss,gen_loss=[],[]\n",
    "\n",
    "if os.path.exists('gan_images')==False:\n",
    "    os.makedirs('gan_images')"
   ]
  },
  {
   "cell_type": "code",
   "execution_count": 25,
   "metadata": {},
   "outputs": [],
   "source": [
    "#Function to generate and store random samples \n",
    "\n",
    "def get_sample(epoch_no):\n",
    "    row,col=5,5 #25 images in a grid\n",
    "    noise= np.random.randn(row*col,l_dim)\n",
    "    imgs=gen.predict(noise)\n",
    "    \n",
    "    imgs= 0.5*imgs+0.5 #Scaling from the interval [-1,1] to [0,1]\n",
    "    \n",
    "    fig,axs=plt.subplots(row,col)\n",
    "    idx=0\n",
    "    for i in range(row):\n",
    "        for j in range(col):\n",
    "            axs[i,j].imshow(imgs[idx].reshape(28,28),cmap='gray') #As Height and Width of images are 28 pixels each\n",
    "            axs[i,j].axis('off')\n",
    "            idx+=1\n",
    "    fig.savefig('gan_images/%d.jpg' %epoch_no)\n",
    "    plt.close()"
   ]
  },
  {
   "cell_type": "code",
   "execution_count": 27,
   "metadata": {},
   "outputs": [
    {
     "name": "stdout",
     "output_type": "stream",
     "text": [
      "epoch: 1/40000,d_loss= 0.63, d_acc= 0.53, g_loss=  1.13\n"
     ]
    }
   ],
   "source": [
    "#Training loop\n",
    "\n",
    "\n",
    "for epoch in range(1):\n",
    "    \n",
    "    #Training the Discriminator\n",
    "    \n",
    "    #real images\n",
    "    k=np.random.randint(0,X_train.shape[0],batch_size)\n",
    "    real_img=X_train[k]\n",
    "    \n",
    "    #fake images\n",
    "    l=np.random.rand(batch_size,l_dim)\n",
    "    fake_img=gen.predict(l)\n",
    "    \n",
    "    #Train Discriminator\n",
    "    dis_loss_real,dis_acc_real=dis.train_on_batch(real_img,ones)\n",
    "    dis_loss_fake,dis_acc_fake=dis.train_on_batch(fake_img,zeros)\n",
    "    \n",
    "    d_loss=(dis_loss_real+dis_loss_fake)/2\n",
    "    dis_acc=(dis_acc_real+dis_acc_fake)/2\n",
    "    \n",
    "    #Training the Generator\n",
    "    \n",
    "    noise=np.random.rand(batch_size,l_dim)\n",
    "    g_loss=comb_model.train_on_batch(noise,ones)\n",
    "    \n",
    "    gen_loss.append(g_loss)\n",
    "    dis_loss.append(d_loss)\n",
    "    \n",
    "    if epoch%200==0:\n",
    "        print(f'epoch: {epoch+1}/{epochs},d_loss= {d_loss:.2f}, d_acc={dis_acc: 0.2f}, g_loss= {g_loss: 0.2f}')\n",
    "        \n",
    "    if epoch%sample==0:\n",
    "        get_sample(epoch)"
   ]
  },
  {
   "cell_type": "code",
   "execution_count": 35,
   "metadata": {},
   "outputs": [
    {
     "data": {
      "image/png": "[encoded data removed]",
      "text/plain": [
       "<Figure size 432x288 with 1 Axes>"
      ]
     },
     "metadata": {
      "needs_background": "light"
     },
     "output_type": "display_data"
    }
   ],
   "source": [
    "plt.plot(dis_loss,label='discriminator')\n",
    "plt.plot(gen_loss,label='generator')\n",
    "plt.legend()\n",
    "plt.show()"
   ]
  },
  {
   "cell_type": "code",
   "execution_count": 37,
   "metadata": {},
   "outputs": [
    {
     "data": {
      "text/plain": [
       "<matplotlib.image.AxesImage at 0x2524d93a988>"
      ]
     },
     "execution_count": 37,
     "metadata": {},
     "output_type": "execute_result"
    },
    {
     "data": {
      "image/png": "[encoded data removed]",
      "text/plain": [
       "<Figure size 432x288 with 1 Axes>"
      ]
     },
     "metadata": {
      "needs_background": "light"
     },
     "output_type": "display_data"
    }
   ],
   "source": [
    "img=plt.imread('gan_images/39000.jpg')\n",
    "plt.imshow(img)"
   ]
  },
  {
   "cell_type": "code",
   "execution_count": null,
   "metadata": {},
   "outputs": [],
   "source": []
  }
 ],
 "metadata": {
  "kernelspec": {
   "display_name": "Python 3",
   "language": "python",
   "name": "python3"
  },
  "language_info": {
   "codemirror_mode": {
    "name": "ipython",
    "version": 3
   },
   "file_extension": ".py",
   "mimetype": "text/x-python",
   "name": "python",
   "nbconvert_exporter": "python",
   "pygments_lexer": "ipython3",
   "version": "3.7.7"
  }
 },
 "nbformat": 4,
 "nbformat_minor": 4
}
